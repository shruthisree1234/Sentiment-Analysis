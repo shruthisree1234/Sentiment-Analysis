{
 "cells": [
  {
   "cell_type": "code",
   "execution_count": 1,
   "metadata": {
    "executionInfo": {
     "elapsed": 411,
     "status": "ok",
     "timestamp": 1651259323243,
     "user": {
      "displayName": "Koditipalli Dinesh",
      "userId": "09422897118493776278"
     },
     "user_tz": 300
    },
    "id": "dfb9a57f"
   },
   "outputs": [],
   "source": [
    "#CSE 6363 - Machine Learning\n",
    "#Team 13 - Project Submission 2\n",
    "\n",
    "    #Shruthi Sree Thirunavukkarasu (1001933428)\n",
    "    #Dinesh Kumar KodithiPalli Lava Kumar (1001949238)"
   ]
  },
  {
   "cell_type": "code",
   "execution_count": 2,
   "metadata": {
    "colab": {
     "base_uri": "https://localhost:8080/"
    },
    "executionInfo": {
     "elapsed": 7171,
     "status": "ok",
     "timestamp": 1651259330818,
     "user": {
      "displayName": "Koditipalli Dinesh",
      "userId": "09422897118493776278"
     },
     "user_tz": 300
    },
    "id": "e7346fbf",
    "outputId": "5547b030-c610-416a-dc04-5d011c7d716f"
   },
   "outputs": [
    {
     "name": "stdout",
     "output_type": "stream",
     "text": [
      "[nltk_data] Downloading package stopwords to /root/nltk_data...\n",
      "[nltk_data]   Unzipping corpora/stopwords.zip.\n",
      "[nltk_data] Downloading package wordnet to /root/nltk_data...\n",
      "[nltk_data]   Unzipping corpora/wordnet.zip.\n",
      "[nltk_data] Downloading package omw-1.4 to /root/nltk_data...\n",
      "[nltk_data]   Unzipping corpora/omw-1.4.zip.\n"
     ]
    }
   ],
   "source": [
    "import pandas as pd\n",
    "import numpy as np\n",
    "import matplotlib.pyplot as plt\n",
    "import seaborn as sns\n",
    "import re\n",
    "import string\n",
    "import nltk\n",
    "nltk.download('stopwords')\n",
    "nltk.download('wordnet')\n",
    "nltk.download('omw-1.4')\n",
    "from nltk.corpus import stopwords\n",
    "from nltk.stem import WordNetLemmatizer\n",
    "from nltk.tokenize import word_tokenize\n",
    "from wordcloud import WordCloud\n",
    "from nltk.stem.porter import PorterStemmer"
   ]
  },
  {
   "cell_type": "code",
   "execution_count": 3,
   "metadata": {
    "colab": {
     "base_uri": "https://localhost:8080/",
     "height": 299
    },
    "executionInfo": {
     "elapsed": 71697,
     "status": "ok",
     "timestamp": 1651259402506,
     "user": {
      "displayName": "Koditipalli Dinesh",
      "userId": "09422897118493776278"
     },
     "user_tz": 300
    },
    "id": "7134b735",
    "outputId": "a800a7ce-8b50-44ff-fbdf-be557b44e66c"
   },
   "outputs": [
    {
     "name": "stdout",
     "output_type": "stream",
     "text": [
      "Mounted at /content/drive\n"
     ]
    },
    {
     "data": {
      "text/html": [
       "\n",
       "  <div id=\"df-aba1327e-2c1e-4c2e-a9f5-606ea348d940\">\n",
       "    <div class=\"colab-df-container\">\n",
       "      <div>\n",
       "<style scoped>\n",
       "    .dataframe tbody tr th:only-of-type {\n",
       "        vertical-align: middle;\n",
       "    }\n",
       "\n",
       "    .dataframe tbody tr th {\n",
       "        vertical-align: top;\n",
       "    }\n",
       "\n",
       "    .dataframe thead th {\n",
       "        text-align: right;\n",
       "    }\n",
       "</style>\n",
       "<table border=\"1\" class=\"dataframe\">\n",
       "  <thead>\n",
       "    <tr style=\"text-align: right;\">\n",
       "      <th></th>\n",
       "      <th>overall</th>\n",
       "      <th>verified</th>\n",
       "      <th>reviewTime</th>\n",
       "      <th>reviewerID</th>\n",
       "      <th>asin</th>\n",
       "      <th>reviewerName</th>\n",
       "      <th>reviewText</th>\n",
       "      <th>summary</th>\n",
       "      <th>unixReviewTime</th>\n",
       "      <th>vote</th>\n",
       "      <th>style</th>\n",
       "      <th>image</th>\n",
       "    </tr>\n",
       "  </thead>\n",
       "  <tbody>\n",
       "    <tr>\n",
       "      <th>0</th>\n",
       "      <td>5</td>\n",
       "      <td>True</td>\n",
       "      <td>10 20, 2014</td>\n",
       "      <td>A1D4G1SNUZWQOT</td>\n",
       "      <td>7106116521</td>\n",
       "      <td>Tracy</td>\n",
       "      <td>Exactly what I needed.</td>\n",
       "      <td>perfect replacements!!</td>\n",
       "      <td>1413763200</td>\n",
       "      <td>NaN</td>\n",
       "      <td>NaN</td>\n",
       "      <td>NaN</td>\n",
       "    </tr>\n",
       "    <tr>\n",
       "      <th>1</th>\n",
       "      <td>2</td>\n",
       "      <td>True</td>\n",
       "      <td>09 28, 2014</td>\n",
       "      <td>A3DDWDH9PX2YX2</td>\n",
       "      <td>7106116521</td>\n",
       "      <td>Sonja Lau</td>\n",
       "      <td>I agree with the other review, the opening is ...</td>\n",
       "      <td>I agree with the other review, the opening is ...</td>\n",
       "      <td>1411862400</td>\n",
       "      <td>3.0</td>\n",
       "      <td>NaN</td>\n",
       "      <td>NaN</td>\n",
       "    </tr>\n",
       "    <tr>\n",
       "      <th>2</th>\n",
       "      <td>4</td>\n",
       "      <td>False</td>\n",
       "      <td>08 25, 2014</td>\n",
       "      <td>A2MWC41EW7XL15</td>\n",
       "      <td>7106116521</td>\n",
       "      <td>Kathleen</td>\n",
       "      <td>Love these... I am going to order another pack...</td>\n",
       "      <td>My New 'Friends' !!</td>\n",
       "      <td>1408924800</td>\n",
       "      <td>NaN</td>\n",
       "      <td>NaN</td>\n",
       "      <td>NaN</td>\n",
       "    </tr>\n",
       "    <tr>\n",
       "      <th>3</th>\n",
       "      <td>2</td>\n",
       "      <td>True</td>\n",
       "      <td>08 24, 2014</td>\n",
       "      <td>A2UH2QQ275NV45</td>\n",
       "      <td>7106116521</td>\n",
       "      <td>Jodi Stoner</td>\n",
       "      <td>too tiny an opening</td>\n",
       "      <td>Two Stars</td>\n",
       "      <td>1408838400</td>\n",
       "      <td>NaN</td>\n",
       "      <td>NaN</td>\n",
       "      <td>NaN</td>\n",
       "    </tr>\n",
       "    <tr>\n",
       "      <th>4</th>\n",
       "      <td>3</td>\n",
       "      <td>False</td>\n",
       "      <td>07 27, 2014</td>\n",
       "      <td>A89F3LQADZBS5</td>\n",
       "      <td>7106116521</td>\n",
       "      <td>Alexander D.</td>\n",
       "      <td>Okay</td>\n",
       "      <td>Three Stars</td>\n",
       "      <td>1406419200</td>\n",
       "      <td>NaN</td>\n",
       "      <td>NaN</td>\n",
       "      <td>NaN</td>\n",
       "    </tr>\n",
       "  </tbody>\n",
       "</table>\n",
       "</div>\n",
       "      <button class=\"colab-df-convert\" onclick=\"convertToInteractive('df-aba1327e-2c1e-4c2e-a9f5-606ea348d940')\"\n",
       "              title=\"Convert this dataframe to an interactive table.\"\n",
       "              style=\"display:none;\">\n",
       "        \n",
       "  <svg xmlns=\"http://www.w3.org/2000/svg\" height=\"24px\"viewBox=\"0 0 24 24\"\n",
       "       width=\"24px\">\n",
       "    <path d=\"M0 0h24v24H0V0z\" fill=\"none\"/>\n",
       "    <path d=\"M18.56 5.44l.94 2.06.94-2.06 2.06-.94-2.06-.94-.94-2.06-.94 2.06-2.06.94zm-11 1L8.5 8.5l.94-2.06 2.06-.94-2.06-.94L8.5 2.5l-.94 2.06-2.06.94zm10 10l.94 2.06.94-2.06 2.06-.94-2.06-.94-.94-2.06-.94 2.06-2.06.94z\"/><path d=\"M17.41 7.96l-1.37-1.37c-.4-.4-.92-.59-1.43-.59-.52 0-1.04.2-1.43.59L10.3 9.45l-7.72 7.72c-.78.78-.78 2.05 0 2.83L4 21.41c.39.39.9.59 1.41.59.51 0 1.02-.2 1.41-.59l7.78-7.78 2.81-2.81c.8-.78.8-2.07 0-2.86zM5.41 20L4 18.59l7.72-7.72 1.47 1.35L5.41 20z\"/>\n",
       "  </svg>\n",
       "      </button>\n",
       "      \n",
       "  <style>\n",
       "    .colab-df-container {\n",
       "      display:flex;\n",
       "      flex-wrap:wrap;\n",
       "      gap: 12px;\n",
       "    }\n",
       "\n",
       "    .colab-df-convert {\n",
       "      background-color: #E8F0FE;\n",
       "      border: none;\n",
       "      border-radius: 50%;\n",
       "      cursor: pointer;\n",
       "      display: none;\n",
       "      fill: #1967D2;\n",
       "      height: 32px;\n",
       "      padding: 0 0 0 0;\n",
       "      width: 32px;\n",
       "    }\n",
       "\n",
       "    .colab-df-convert:hover {\n",
       "      background-color: #E2EBFA;\n",
       "      box-shadow: 0px 1px 2px rgba(60, 64, 67, 0.3), 0px 1px 3px 1px rgba(60, 64, 67, 0.15);\n",
       "      fill: #174EA6;\n",
       "    }\n",
       "\n",
       "    [theme=dark] .colab-df-convert {\n",
       "      background-color: #3B4455;\n",
       "      fill: #D2E3FC;\n",
       "    }\n",
       "\n",
       "    [theme=dark] .colab-df-convert:hover {\n",
       "      background-color: #434B5C;\n",
       "      box-shadow: 0px 1px 3px 1px rgba(0, 0, 0, 0.15);\n",
       "      filter: drop-shadow(0px 1px 2px rgba(0, 0, 0, 0.3));\n",
       "      fill: #FFFFFF;\n",
       "    }\n",
       "  </style>\n",
       "\n",
       "      <script>\n",
       "        const buttonEl =\n",
       "          document.querySelector('#df-aba1327e-2c1e-4c2e-a9f5-606ea348d940 button.colab-df-convert');\n",
       "        buttonEl.style.display =\n",
       "          google.colab.kernel.accessAllowed ? 'block' : 'none';\n",
       "\n",
       "        async function convertToInteractive(key) {\n",
       "          const element = document.querySelector('#df-aba1327e-2c1e-4c2e-a9f5-606ea348d940');\n",
       "          const dataTable =\n",
       "            await google.colab.kernel.invokeFunction('convertToInteractive',\n",
       "                                                     [key], {});\n",
       "          if (!dataTable) return;\n",
       "\n",
       "          const docLinkHtml = 'Like what you see? Visit the ' +\n",
       "            '<a target=\"_blank\" href=https://colab.research.google.com/notebooks/data_table.ipynb>data table notebook</a>'\n",
       "            + ' to learn more about interactive tables.';\n",
       "          element.innerHTML = '';\n",
       "          dataTable['output_type'] = 'display_data';\n",
       "          await google.colab.output.renderOutput(dataTable, element);\n",
       "          const docLink = document.createElement('div');\n",
       "          docLink.innerHTML = docLinkHtml;\n",
       "          element.appendChild(docLink);\n",
       "        }\n",
       "      </script>\n",
       "    </div>\n",
       "  </div>\n",
       "  "
      ],
      "text/plain": [
       "   overall  verified   reviewTime      reviewerID        asin  reviewerName  \\\n",
       "0        5      True  10 20, 2014  A1D4G1SNUZWQOT  7106116521         Tracy   \n",
       "1        2      True  09 28, 2014  A3DDWDH9PX2YX2  7106116521     Sonja Lau   \n",
       "2        4     False  08 25, 2014  A2MWC41EW7XL15  7106116521      Kathleen   \n",
       "3        2      True  08 24, 2014  A2UH2QQ275NV45  7106116521   Jodi Stoner   \n",
       "4        3     False  07 27, 2014   A89F3LQADZBS5  7106116521  Alexander D.   \n",
       "\n",
       "                                          reviewText  \\\n",
       "0                             Exactly what I needed.   \n",
       "1  I agree with the other review, the opening is ...   \n",
       "2  Love these... I am going to order another pack...   \n",
       "3                                too tiny an opening   \n",
       "4                                               Okay   \n",
       "\n",
       "                                             summary  unixReviewTime  vote  \\\n",
       "0                             perfect replacements!!      1413763200   NaN   \n",
       "1  I agree with the other review, the opening is ...      1411862400   3.0   \n",
       "2                                My New 'Friends' !!      1408924800   NaN   \n",
       "3                                          Two Stars      1408838400   NaN   \n",
       "4                                        Three Stars      1406419200   NaN   \n",
       "\n",
       "  style image  \n",
       "0   NaN   NaN  \n",
       "1   NaN   NaN  \n",
       "2   NaN   NaN  \n",
       "3   NaN   NaN  \n",
       "4   NaN   NaN  "
      ]
     },
     "execution_count": 3,
     "metadata": {},
     "output_type": "execute_result"
    }
   ],
   "source": [
    "from google.colab import drive\n",
    "drive.mount('/content/drive')\n",
    "\n",
    "#Reading input file with dataset\n",
    "rawData=pd.read_json(r\"/content/drive/MyDrive/Colab Notebooks/AMAZON_FASHION.json.gz\",lines=True,orient='columns')\n",
    "rawData.head()"
   ]
  },
  {
   "cell_type": "code",
   "execution_count": 4,
   "metadata": {
    "colab": {
     "base_uri": "https://localhost:8080/"
    },
    "executionInfo": {
     "elapsed": 624,
     "status": "ok",
     "timestamp": 1651259403115,
     "user": {
      "displayName": "Koditipalli Dinesh",
      "userId": "09422897118493776278"
     },
     "user_tz": 300
    },
    "id": "3d52c746",
    "outputId": "1f6f3b60-80ec-40b4-f628-ee7479c9035f"
   },
   "outputs": [
    {
     "name": "stdout",
     "output_type": "stream",
     "text": [
      "The shape of the data set before removing duplicate reviews : (883636, 12)\n",
      "The shape of the data set after removing duplicate reviews : (768795, 12)\n"
     ]
    }
   ],
   "source": [
    "#Removing duplicate reviews\n",
    "print(\"The shape of the data set before removing duplicate reviews : {}\".format(rawData.shape))\n",
    "rawData=rawData.drop_duplicates(subset=[\"reviewText\"], keep='first', inplace=False)\n",
    "print(\"The shape of the data set after removing duplicate reviews : {}\".format(rawData.shape))"
   ]
  },
  {
   "cell_type": "code",
   "execution_count": 5,
   "metadata": {
    "colab": {
     "base_uri": "https://localhost:8080/"
    },
    "executionInfo": {
     "elapsed": 629,
     "status": "ok",
     "timestamp": 1651259403738,
     "user": {
      "displayName": "Koditipalli Dinesh",
      "userId": "09422897118493776278"
     },
     "user_tz": 300
    },
    "id": "d23ac410",
    "outputId": "0eb28668-a5b2-4b7f-f0cc-d8d306ec99c5"
   },
   "outputs": [
    {
     "name": "stdout",
     "output_type": "stream",
     "text": [
      "<class 'pandas.core.frame.DataFrame'>\n",
      "Int64Index: 768795 entries, 0 to 883635\n",
      "Data columns (total 4 columns):\n",
      " #   Column      Non-Null Count   Dtype \n",
      "---  ------      --------------   ----- \n",
      " 0   reviewerID  768795 non-null  object\n",
      " 1   reviewText  768794 non-null  object\n",
      " 2   overall     768795 non-null  int64 \n",
      " 3   asin        768795 non-null  object\n",
      "dtypes: int64(1), object(3)\n",
      "memory usage: 29.3+ MB\n"
     ]
    }
   ],
   "source": [
    "#Extracting required columns from the dataset\n",
    "reviewData = rawData[[\"reviewerID\",\"reviewText\",\"overall\",\"asin\"]]\n",
    "#reviewData = reviewData.sample(n=80000)\n",
    "reviewData.info()"
   ]
  },
  {
   "cell_type": "code",
   "execution_count": 6,
   "metadata": {
    "colab": {
     "base_uri": "https://localhost:8080/",
     "height": 391
    },
    "executionInfo": {
     "elapsed": 613,
     "status": "ok",
     "timestamp": 1651259404346,
     "user": {
      "displayName": "Koditipalli Dinesh",
      "userId": "09422897118493776278"
     },
     "user_tz": 300
    },
    "id": "b3MoUXZ87Knd",
    "outputId": "d003c4ed-8819-40f7-ad80-1b3fff75c074"
   },
   "outputs": [
    {
     "name": "stdout",
     "output_type": "stream",
     "text": [
      "<class 'pandas.core.frame.DataFrame'>\n",
      "Int64Index: 768794 entries, 0 to 883635\n",
      "Data columns (total 4 columns):\n",
      " #   Column      Non-Null Count   Dtype \n",
      "---  ------      --------------   ----- \n",
      " 0   reviewerID  768794 non-null  object\n",
      " 1   reviewText  768794 non-null  object\n",
      " 2   overall     768794 non-null  int64 \n",
      " 3   asin        768794 non-null  object\n",
      "dtypes: int64(1), object(3)\n",
      "memory usage: 29.3+ MB\n"
     ]
    },
    {
     "data": {
      "text/html": [
       "\n",
       "  <div id=\"df-e8f6eb21-e447-4119-84d8-33dbe3da5cac\">\n",
       "    <div class=\"colab-df-container\">\n",
       "      <div>\n",
       "<style scoped>\n",
       "    .dataframe tbody tr th:only-of-type {\n",
       "        vertical-align: middle;\n",
       "    }\n",
       "\n",
       "    .dataframe tbody tr th {\n",
       "        vertical-align: top;\n",
       "    }\n",
       "\n",
       "    .dataframe thead th {\n",
       "        text-align: right;\n",
       "    }\n",
       "</style>\n",
       "<table border=\"1\" class=\"dataframe\">\n",
       "  <thead>\n",
       "    <tr style=\"text-align: right;\">\n",
       "      <th></th>\n",
       "      <th>reviewerID</th>\n",
       "      <th>reviewText</th>\n",
       "      <th>overall</th>\n",
       "      <th>asin</th>\n",
       "    </tr>\n",
       "  </thead>\n",
       "  <tbody>\n",
       "    <tr>\n",
       "      <th>0</th>\n",
       "      <td>A1D4G1SNUZWQOT</td>\n",
       "      <td>Exactly what I needed.</td>\n",
       "      <td>5</td>\n",
       "      <td>7106116521</td>\n",
       "    </tr>\n",
       "    <tr>\n",
       "      <th>1</th>\n",
       "      <td>A3DDWDH9PX2YX2</td>\n",
       "      <td>I agree with the other review, the opening is ...</td>\n",
       "      <td>2</td>\n",
       "      <td>7106116521</td>\n",
       "    </tr>\n",
       "    <tr>\n",
       "      <th>2</th>\n",
       "      <td>A2MWC41EW7XL15</td>\n",
       "      <td>Love these... I am going to order another pack...</td>\n",
       "      <td>4</td>\n",
       "      <td>7106116521</td>\n",
       "    </tr>\n",
       "    <tr>\n",
       "      <th>3</th>\n",
       "      <td>A2UH2QQ275NV45</td>\n",
       "      <td>too tiny an opening</td>\n",
       "      <td>2</td>\n",
       "      <td>7106116521</td>\n",
       "    </tr>\n",
       "    <tr>\n",
       "      <th>4</th>\n",
       "      <td>A89F3LQADZBS5</td>\n",
       "      <td>Okay</td>\n",
       "      <td>3</td>\n",
       "      <td>7106116521</td>\n",
       "    </tr>\n",
       "  </tbody>\n",
       "</table>\n",
       "</div>\n",
       "      <button class=\"colab-df-convert\" onclick=\"convertToInteractive('df-e8f6eb21-e447-4119-84d8-33dbe3da5cac')\"\n",
       "              title=\"Convert this dataframe to an interactive table.\"\n",
       "              style=\"display:none;\">\n",
       "        \n",
       "  <svg xmlns=\"http://www.w3.org/2000/svg\" height=\"24px\"viewBox=\"0 0 24 24\"\n",
       "       width=\"24px\">\n",
       "    <path d=\"M0 0h24v24H0V0z\" fill=\"none\"/>\n",
       "    <path d=\"M18.56 5.44l.94 2.06.94-2.06 2.06-.94-2.06-.94-.94-2.06-.94 2.06-2.06.94zm-11 1L8.5 8.5l.94-2.06 2.06-.94-2.06-.94L8.5 2.5l-.94 2.06-2.06.94zm10 10l.94 2.06.94-2.06 2.06-.94-2.06-.94-.94-2.06-.94 2.06-2.06.94z\"/><path d=\"M17.41 7.96l-1.37-1.37c-.4-.4-.92-.59-1.43-.59-.52 0-1.04.2-1.43.59L10.3 9.45l-7.72 7.72c-.78.78-.78 2.05 0 2.83L4 21.41c.39.39.9.59 1.41.59.51 0 1.02-.2 1.41-.59l7.78-7.78 2.81-2.81c.8-.78.8-2.07 0-2.86zM5.41 20L4 18.59l7.72-7.72 1.47 1.35L5.41 20z\"/>\n",
       "  </svg>\n",
       "      </button>\n",
       "      \n",
       "  <style>\n",
       "    .colab-df-container {\n",
       "      display:flex;\n",
       "      flex-wrap:wrap;\n",
       "      gap: 12px;\n",
       "    }\n",
       "\n",
       "    .colab-df-convert {\n",
       "      background-color: #E8F0FE;\n",
       "      border: none;\n",
       "      border-radius: 50%;\n",
       "      cursor: pointer;\n",
       "      display: none;\n",
       "      fill: #1967D2;\n",
       "      height: 32px;\n",
       "      padding: 0 0 0 0;\n",
       "      width: 32px;\n",
       "    }\n",
       "\n",
       "    .colab-df-convert:hover {\n",
       "      background-color: #E2EBFA;\n",
       "      box-shadow: 0px 1px 2px rgba(60, 64, 67, 0.3), 0px 1px 3px 1px rgba(60, 64, 67, 0.15);\n",
       "      fill: #174EA6;\n",
       "    }\n",
       "\n",
       "    [theme=dark] .colab-df-convert {\n",
       "      background-color: #3B4455;\n",
       "      fill: #D2E3FC;\n",
       "    }\n",
       "\n",
       "    [theme=dark] .colab-df-convert:hover {\n",
       "      background-color: #434B5C;\n",
       "      box-shadow: 0px 1px 3px 1px rgba(0, 0, 0, 0.15);\n",
       "      filter: drop-shadow(0px 1px 2px rgba(0, 0, 0, 0.3));\n",
       "      fill: #FFFFFF;\n",
       "    }\n",
       "  </style>\n",
       "\n",
       "      <script>\n",
       "        const buttonEl =\n",
       "          document.querySelector('#df-e8f6eb21-e447-4119-84d8-33dbe3da5cac button.colab-df-convert');\n",
       "        buttonEl.style.display =\n",
       "          google.colab.kernel.accessAllowed ? 'block' : 'none';\n",
       "\n",
       "        async function convertToInteractive(key) {\n",
       "          const element = document.querySelector('#df-e8f6eb21-e447-4119-84d8-33dbe3da5cac');\n",
       "          const dataTable =\n",
       "            await google.colab.kernel.invokeFunction('convertToInteractive',\n",
       "                                                     [key], {});\n",
       "          if (!dataTable) return;\n",
       "\n",
       "          const docLinkHtml = 'Like what you see? Visit the ' +\n",
       "            '<a target=\"_blank\" href=https://colab.research.google.com/notebooks/data_table.ipynb>data table notebook</a>'\n",
       "            + ' to learn more about interactive tables.';\n",
       "          element.innerHTML = '';\n",
       "          dataTable['output_type'] = 'display_data';\n",
       "          await google.colab.output.renderOutput(dataTable, element);\n",
       "          const docLink = document.createElement('div');\n",
       "          docLink.innerHTML = docLinkHtml;\n",
       "          element.appendChild(docLink);\n",
       "        }\n",
       "      </script>\n",
       "    </div>\n",
       "  </div>\n",
       "  "
      ],
      "text/plain": [
       "       reviewerID                                         reviewText  overall  \\\n",
       "0  A1D4G1SNUZWQOT                             Exactly what I needed.        5   \n",
       "1  A3DDWDH9PX2YX2  I agree with the other review, the opening is ...        2   \n",
       "2  A2MWC41EW7XL15  Love these... I am going to order another pack...        4   \n",
       "3  A2UH2QQ275NV45                                too tiny an opening        2   \n",
       "4   A89F3LQADZBS5                                               Okay        3   \n",
       "\n",
       "         asin  \n",
       "0  7106116521  \n",
       "1  7106116521  \n",
       "2  7106116521  \n",
       "3  7106116521  \n",
       "4  7106116521  "
      ]
     },
     "execution_count": 6,
     "metadata": {},
     "output_type": "execute_result"
    }
   ],
   "source": [
    "#Removing null entries from the dataset\n",
    "uniqueData = reviewData.dropna()\n",
    "uniqueData.info()\n",
    "uniqueData.head()"
   ]
  },
  {
   "cell_type": "code",
   "execution_count": 7,
   "metadata": {
    "colab": {
     "base_uri": "https://localhost:8080/",
     "height": 346
    },
    "executionInfo": {
     "elapsed": 65694,
     "status": "ok",
     "timestamp": 1651259470336,
     "user": {
      "displayName": "Koditipalli Dinesh",
      "userId": "09422897118493776278"
     },
     "user_tz": 300
    },
    "id": "42319ec3",
    "outputId": "5add49f7-971f-4de8-c0fe-516a3a54b65e"
   },
   "outputs": [
    {
     "data": {
      "image/png": "[encoded data removed]",
      "text/plain": [
       "<Figure size 720x360 with 1 Axes>"
      ]
     },
     "metadata": {
      "needs_background": "light"
     },
     "output_type": "display_data"
    }
   ],
   "source": [
    "#Generating Wordcloud for the reviews\n",
    "reviewTextData = uniqueData['reviewText']\n",
    "wordcloud = WordCloud(background_color='white',\n",
    "                      width=1000,\n",
    "                      height=1000\n",
    "                     ).generate(\" \".join(reviewTextData))\n",
    "plt.figure(figsize=(10,5))\n",
    "plt.imshow(wordcloud)\n",
    "plt.title('All Words in the Reviews\\n',size=20)\n",
    "plt.axis('off')\n",
    "plt.show()"
   ]
  },
  {
   "cell_type": "code",
   "execution_count": 8,
   "metadata": {
    "executionInfo": {
     "elapsed": 13680,
     "status": "ok",
     "timestamp": 1651259484939,
     "user": {
      "displayName": "Koditipalli Dinesh",
      "userId": "09422897118493776278"
     },
     "user_tz": 300
    },
    "id": "a369a66d",
    "scrolled": true
   },
   "outputs": [],
   "source": [
    "#Joining all review texts into a single text line separated by space\n",
    "reviewTextData = \" \".join(uniqueData['reviewText'])\n",
    "\n",
    "#Creating list of sentiment words to compare and measure frequency\n",
    "words = ['awesome','great','fantastic','extraordinary','amazing','super',\n",
    "                 'magnificent','stunning','impressive','wonderful','breathtaking',\n",
    "                 'love','content','pleased','happy','glad','satisfied','lucky',\n",
    "                 'shocking','cheerful','wow','sad','unhappy','horrible','regret',\n",
    "                 'bad','terrible','annoyed','disappointed','upset','awful','hate']\n",
    "\n",
    "\n",
    "#Counting frequency of sentiment words in review text\n",
    "wordFrequency = {}\n",
    "for word in reviewTextData.split(\" \"):\n",
    "    if word in words:\n",
    "        wordFrequency[word] = wordFrequency.get(word,0)+1"
   ]
  },
  {
   "cell_type": "code",
   "execution_count": 9,
   "metadata": {
    "colab": {
     "base_uri": "https://localhost:8080/",
     "height": 297
    },
    "executionInfo": {
     "elapsed": 590,
     "status": "ok",
     "timestamp": 1651259485519,
     "user": {
      "displayName": "Koditipalli Dinesh",
      "userId": "09422897118493776278"
     },
     "user_tz": 300
    },
    "id": "7ddf569a",
    "outputId": "6f56f21f-a1f4-4901-a53c-367a6941e56a"
   },
   "outputs": [
    {
     "data": {
      "image/png": "[encoded data removed]",
      "text/plain": [
       "<Figure size 720x360 with 1 Axes>"
      ]
     },
     "metadata": {
      "needs_background": "light"
     },
     "output_type": "display_data"
    }
   ],
   "source": [
    "#Generating wordcloud of the most frequent sentiment words\n",
    "wordcloud = WordCloud(background_color='white',\n",
    "                      width=1000,\n",
    "                      height=400\n",
    "                     ).generate_from_frequencies(wordFrequency)\n",
    "plt.figure(figsize=(10,5))\n",
    "plt.imshow(wordcloud)\n",
    "plt.title('Sentiment Words\\n',size=20)\n",
    "plt.axis('off')\n",
    "plt.show()"
   ]
  },
  {
   "cell_type": "code",
   "execution_count": 10,
   "metadata": {
    "colab": {
     "base_uri": "https://localhost:8080/",
     "height": 404
    },
    "executionInfo": {
     "elapsed": 268,
     "status": "ok",
     "timestamp": 1651259485780,
     "user": {
      "displayName": "Koditipalli Dinesh",
      "userId": "09422897118493776278"
     },
     "user_tz": 300
    },
    "id": "630a44a3",
    "outputId": "2e92adcd-db6c-4d14-edb3-521497235f37"
   },
   "outputs": [
    {
     "name": "stderr",
     "output_type": "stream",
     "text": [
      "/usr/local/lib/python3.7/dist-packages/seaborn/_decorators.py:43: FutureWarning: Pass the following variable as a keyword arg: x. From version 0.12, the only valid positional argument will be `data`, and passing other arguments without an explicit keyword will result in an error or misinterpretation.\n",
      "  FutureWarning\n"
     ]
    },
    {
     "data": {
      "image/png": "[encoded data removed]",
      "text/plain": [
       "<Figure size 720x360 with 1 Axes>"
      ]
     },
     "metadata": {
      "needs_background": "light"
     },
     "output_type": "display_data"
    }
   ],
   "source": [
    "#Plotting and counting the distribution of reviews based on ratings between 1-5\n",
    "plt.figure(figsize=(10,5))\n",
    "sns.countplot(uniqueData['overall'])\n",
    "plt.title('Count ratings')\n",
    "plt.show()"
   ]
  },
  {
   "cell_type": "code",
   "execution_count": 11,
   "metadata": {
    "colab": {
     "base_uri": "https://localhost:8080/"
    },
    "executionInfo": {
     "elapsed": 8900,
     "status": "ok",
     "timestamp": 1651259494674,
     "user": {
      "displayName": "Koditipalli Dinesh",
      "userId": "09422897118493776278"
     },
     "user_tz": 300
    },
    "id": "1f8dc77b",
    "outputId": "3a71418f-c0f9-4bf2-c8dc-d1dfe265670f"
   },
   "outputs": [
    {
     "name": "stderr",
     "output_type": "stream",
     "text": [
      "/usr/local/lib/python3.7/dist-packages/pandas/core/generic.py:5516: SettingWithCopyWarning: \n",
      "A value is trying to be set on a copy of a slice from a DataFrame.\n",
      "Try using .loc[row_indexer,col_indexer] = value instead\n",
      "\n",
      "See the caveats in the documentation: https://pandas.pydata.org/pandas-docs/stable/user_guide/indexing.html#returning-a-view-versus-a-copy\n",
      "  self[name] = value\n"
     ]
    },
    {
     "name": "stdout",
     "output_type": "stream",
     "text": [
      "            reviewerID                                         reviewText  \\\n",
      "0       A1D4G1SNUZWQOT                              exactly what i needed   \n",
      "1       A3DDWDH9PX2YX2  i agree with the other review the opening is t...   \n",
      "2       A2MWC41EW7XL15  love these i am going to order another pack to...   \n",
      "3       A2UH2QQ275NV45                                too tiny an opening   \n",
      "4        A89F3LQADZBS5                                               okay   \n",
      "...                ...                                                ...   \n",
      "883631  A1ZSB2Q144UTEY  i absolutely love this dress  its sexy and com...   \n",
      "883632  A2CCDV0J5VB6F2  im 56 175lbs im on the tall side i wear a larg...   \n",
      "883633  A3O90PACS7B61K                          too big in the chest area   \n",
      "883634  A2HO94I89U3LNH                 too clear in the back needs lining   \n",
      "883635  A2RSX9E79DUHRX  ordered and was slightly small worked with the...   \n",
      "\n",
      "        overall        asin  \n",
      "0             5  7106116521  \n",
      "1             2  7106116521  \n",
      "2             4  7106116521  \n",
      "3             2  7106116521  \n",
      "4             3  7106116521  \n",
      "...         ...         ...  \n",
      "883631        5  B01HJHTH5U  \n",
      "883632        5  B01HJHTH5U  \n",
      "883633        3  B01HJHTH5U  \n",
      "883634        3  B01HJHF97K  \n",
      "883635        5  B01HJG5NMW  \n",
      "\n",
      "[768794 rows x 4 columns]\n"
     ]
    }
   ],
   "source": [
    "#Removing punctuations from the review texts\n",
    "remPunct = re.compile(\"[.;:*~!\\'?,\\\"()\\\\\\[\\]]\") \n",
    "remPunctWSpc = re.compile(\"(<br\\s*/><br\\s*/>)|(\\-)|(\\/)\")\n",
    "uniqueData.reviewText = [remPunct.sub(\"\", i.lower()) for i in uniqueData.reviewText] \n",
    "uniqueData.reviewText= [remPunctWSpc.sub(\" \", i) for i in uniqueData.reviewText]\n",
    "print(uniqueData)"
   ]
  },
  {
   "cell_type": "code",
   "execution_count": 12,
   "metadata": {
    "colab": {
     "base_uri": "https://localhost:8080/"
    },
    "executionInfo": {
     "elapsed": 54797,
     "status": "ok",
     "timestamp": 1651259549456,
     "user": {
      "displayName": "Koditipalli Dinesh",
      "userId": "09422897118493776278"
     },
     "user_tz": 300
    },
    "id": "b0fa72c6",
    "outputId": "ce45596c-30cb-434d-8ba3-f9d451e7598b"
   },
   "outputs": [
    {
     "name": "stdout",
     "output_type": "stream",
     "text": [
      "['i', 'me', 'my', 'myself', 'we', 'our', 'ours', 'ourselves', 'you', \"you're\", \"you've\", \"you'll\", \"you'd\", 'your', 'yours', 'yourself', 'yourselves', 'he', 'him', 'his', 'himself', 'she', \"she's\", 'her', 'hers', 'herself', 'it', \"it's\", 'its', 'itself', 'they', 'them', 'their', 'theirs', 'themselves', 'what', 'which', 'who', 'whom', 'this', 'that', \"that'll\", 'these', 'those', 'am', 'is', 'are', 'was', 'were', 'be', 'been', 'being', 'have', 'has', 'had', 'having', 'do', 'does', 'did', 'doing', 'a', 'an', 'the', 'and', 'but', 'if', 'or', 'because', 'as', 'until', 'while', 'of', 'at', 'by', 'for', 'with', 'about', 'against', 'between', 'into', 'through', 'during', 'before', 'after', 'above', 'below', 'to', 'from', 'up', 'down', 'in', 'out', 'on', 'off', 'over', 'under', 'again', 'further', 'then', 'once', 'here', 'there', 'when', 'where', 'why', 'how', 'all', 'any', 'both', 'each', 'few', 'more', 'most', 'other', 'some', 'such', 'no', 'nor', 'not', 'only', 'own', 'same', 'so', 'than', 'too', 'very', 's', 't', 'can', 'will', 'just', 'don', \"don't\", 'should', \"should've\", 'now', 'd', 'll', 'm', 'o', 're', 've', 'y', 'ain', 'aren', \"aren't\", 'couldn', \"couldn't\", 'didn', \"didn't\", 'doesn', \"doesn't\", 'hadn', \"hadn't\", 'hasn', \"hasn't\", 'haven', \"haven't\", 'isn', \"isn't\", 'ma', 'mightn', \"mightn't\", 'mustn', \"mustn't\", 'needn', \"needn't\", 'shan', \"shan't\", 'shouldn', \"shouldn't\", 'wasn', \"wasn't\", 'weren', \"weren't\", 'won', \"won't\", 'wouldn', \"wouldn't\"] \n",
      "\n",
      "['exactly needed', 'agree review opening small almost bent hook expensive earrings trying get higher end theyre seen would buy price sending back', 'love going order another pack keep work someone including always losing back earring dont understand fish hook earrings dont wish tiny bit longer', 'tiny opening', 'okay']\n"
     ]
    }
   ],
   "source": [
    "#Removing stop words from the \n",
    "english_stopwords = stopwords.words('english')\n",
    "print(english_stopwords,\"\\n\")\n",
    "def remove_stopwords(reviewCollection):\n",
    "    removed_stopwords = []\n",
    "    for reviews in reviewCollection:\n",
    "        removed_stopwords.append(\n",
    "            ' '.join([word for word in reviews.split() \n",
    "                      if word not in english_stopwords])\n",
    "        )\n",
    "    return removed_stopwords\n",
    "without_stopwords = remove_stopwords(uniqueData.reviewText)\n",
    "\n",
    "print(without_stopwords[:5])"
   ]
  },
  {
   "cell_type": "code",
   "execution_count": 13,
   "metadata": {
    "colab": {
     "base_uri": "https://localhost:8080/"
    },
    "executionInfo": {
     "elapsed": 282402,
     "status": "ok",
     "timestamp": 1651259831841,
     "user": {
      "displayName": "Koditipalli Dinesh",
      "userId": "09422897118493776278"
     },
     "user_tz": 300
    },
    "id": "25c655ef",
    "outputId": "d7ea9678-9e94-4418-aa2a-8980815bcca2"
   },
   "outputs": [
    {
     "name": "stdout",
     "output_type": "stream",
     "text": [
      "['exactli need', 'agre review open small almost bent hook expens ear tri get higher end theyr seen would buy price send back', 'love go order anoth pack keep work someon includ alway lose back ear dont understand fish hook ear dont wish tini bit longer', 'tini open', 'okay']\n"
     ]
    }
   ],
   "source": [
    "#Stemming the refined review texts\n",
    "def get_stemmed_text(reviewCollection):\n",
    "    stemmer = PorterStemmer()\n",
    "    return [' '.join([stemmer.stem(word) for word in reviews.split()]) for reviews in reviewCollection]\n",
    "\n",
    "stemmed_reviews = get_stemmed_text(without_stopwords)\n",
    "\n",
    "print(stemmed_reviews[:5])"
   ]
  },
  {
   "cell_type": "code",
   "execution_count": 14,
   "metadata": {
    "colab": {
     "base_uri": "https://localhost:8080/"
    },
    "executionInfo": {
     "elapsed": 52248,
     "status": "ok",
     "timestamp": 1651259884064,
     "user": {
      "displayName": "Koditipalli Dinesh",
      "userId": "09422897118493776278"
     },
     "user_tz": 300
    },
    "id": "ff7f791d",
    "outputId": "800b8e31-31aa-43fa-fa48-6a1a4806a6ee"
   },
   "outputs": [
    {
     "name": "stdout",
     "output_type": "stream",
     "text": [
      "['exactly needed', 'agree review opening small almost bent hook expensive earring trying get higher end theyre seen would buy price sending back', 'love going order another pack keep work someone including always losing back earring dont understand fish hook earring dont wish tiny bit longer', 'tiny opening', 'okay']\n"
     ]
    }
   ],
   "source": [
    "#Lemmatizing the refined review texts\n",
    "def get_lemmatized_text(reviewCollection):\n",
    "    lemmatizer = WordNetLemmatizer()\n",
    "    return [' '.join([lemmatizer.lemmatize(word) for word in reviews.split()]) for reviews in reviewCollection]\n",
    "\n",
    "lemmatized_reviews = get_lemmatized_text(without_stopwords)\n",
    "print(lemmatized_reviews[:5])"
   ]
  },
  {
   "cell_type": "code",
   "execution_count": 15,
   "metadata": {
    "colab": {
     "base_uri": "https://localhost:8080/",
     "height": 408
    },
    "executionInfo": {
     "elapsed": 326,
     "status": "ok",
     "timestamp": 1651259884369,
     "user": {
      "displayName": "Koditipalli Dinesh",
      "userId": "09422897118493776278"
     },
     "user_tz": 300
    },
    "id": "d70fe74c",
    "outputId": "ea86e9eb-529b-4002-f7e9-ffb5535901c8"
   },
   "outputs": [
    {
     "name": "stderr",
     "output_type": "stream",
     "text": [
      "/usr/local/lib/python3.7/dist-packages/ipykernel_launcher.py:2: SettingWithCopyWarning: \n",
      "A value is trying to be set on a copy of a slice from a DataFrame.\n",
      "Try using .loc[row_indexer,col_indexer] = value instead\n",
      "\n",
      "See the caveats in the documentation: https://pandas.pydata.org/pandas-docs/stable/user_guide/indexing.html#returning-a-view-versus-a-copy\n",
      "  \n",
      "/usr/local/lib/python3.7/dist-packages/ipykernel_launcher.py:9: SettingWithCopyWarning: \n",
      "A value is trying to be set on a copy of a slice from a DataFrame.\n",
      "Try using .loc[row_indexer,col_indexer] = value instead\n",
      "\n",
      "See the caveats in the documentation: https://pandas.pydata.org/pandas-docs/stable/user_guide/indexing.html#returning-a-view-versus-a-copy\n",
      "  if __name__ == '__main__':\n"
     ]
    },
    {
     "data": {
      "text/html": [
       "\n",
       "  <div id=\"df-f82d3069-61e4-4af1-801b-244097e3a4e4\">\n",
       "    <div class=\"colab-df-container\">\n",
       "      <div>\n",
       "<style scoped>\n",
       "    .dataframe tbody tr th:only-of-type {\n",
       "        vertical-align: middle;\n",
       "    }\n",
       "\n",
       "    .dataframe tbody tr th {\n",
       "        vertical-align: top;\n",
       "    }\n",
       "\n",
       "    .dataframe thead th {\n",
       "        text-align: right;\n",
       "    }\n",
       "</style>\n",
       "<table border=\"1\" class=\"dataframe\">\n",
       "  <thead>\n",
       "    <tr style=\"text-align: right;\">\n",
       "      <th></th>\n",
       "      <th>reviewerID</th>\n",
       "      <th>reviewText</th>\n",
       "      <th>overall</th>\n",
       "      <th>asin</th>\n",
       "      <th>sentiment</th>\n",
       "    </tr>\n",
       "  </thead>\n",
       "  <tbody>\n",
       "    <tr>\n",
       "      <th>0</th>\n",
       "      <td>A1D4G1SNUZWQOT</td>\n",
       "      <td>exactly needed</td>\n",
       "      <td>5</td>\n",
       "      <td>7106116521</td>\n",
       "      <td>0</td>\n",
       "    </tr>\n",
       "    <tr>\n",
       "      <th>1</th>\n",
       "      <td>A3DDWDH9PX2YX2</td>\n",
       "      <td>agree review opening small almost bent hook ex...</td>\n",
       "      <td>2</td>\n",
       "      <td>7106116521</td>\n",
       "      <td>2</td>\n",
       "    </tr>\n",
       "    <tr>\n",
       "      <th>2</th>\n",
       "      <td>A2MWC41EW7XL15</td>\n",
       "      <td>love going order another pack keep work someon...</td>\n",
       "      <td>4</td>\n",
       "      <td>7106116521</td>\n",
       "      <td>0</td>\n",
       "    </tr>\n",
       "    <tr>\n",
       "      <th>3</th>\n",
       "      <td>A2UH2QQ275NV45</td>\n",
       "      <td>tiny opening</td>\n",
       "      <td>2</td>\n",
       "      <td>7106116521</td>\n",
       "      <td>2</td>\n",
       "    </tr>\n",
       "    <tr>\n",
       "      <th>4</th>\n",
       "      <td>A89F3LQADZBS5</td>\n",
       "      <td>okay</td>\n",
       "      <td>3</td>\n",
       "      <td>7106116521</td>\n",
       "      <td>1</td>\n",
       "    </tr>\n",
       "  </tbody>\n",
       "</table>\n",
       "</div>\n",
       "      <button class=\"colab-df-convert\" onclick=\"convertToInteractive('df-f82d3069-61e4-4af1-801b-244097e3a4e4')\"\n",
       "              title=\"Convert this dataframe to an interactive table.\"\n",
       "              style=\"display:none;\">\n",
       "        \n",
       "  <svg xmlns=\"http://www.w3.org/2000/svg\" height=\"24px\"viewBox=\"0 0 24 24\"\n",
       "       width=\"24px\">\n",
       "    <path d=\"M0 0h24v24H0V0z\" fill=\"none\"/>\n",
       "    <path d=\"M18.56 5.44l.94 2.06.94-2.06 2.06-.94-2.06-.94-.94-2.06-.94 2.06-2.06.94zm-11 1L8.5 8.5l.94-2.06 2.06-.94-2.06-.94L8.5 2.5l-.94 2.06-2.06.94zm10 10l.94 2.06.94-2.06 2.06-.94-2.06-.94-.94-2.06-.94 2.06-2.06.94z\"/><path d=\"M17.41 7.96l-1.37-1.37c-.4-.4-.92-.59-1.43-.59-.52 0-1.04.2-1.43.59L10.3 9.45l-7.72 7.72c-.78.78-.78 2.05 0 2.83L4 21.41c.39.39.9.59 1.41.59.51 0 1.02-.2 1.41-.59l7.78-7.78 2.81-2.81c.8-.78.8-2.07 0-2.86zM5.41 20L4 18.59l7.72-7.72 1.47 1.35L5.41 20z\"/>\n",
       "  </svg>\n",
       "      </button>\n",
       "      \n",
       "  <style>\n",
       "    .colab-df-container {\n",
       "      display:flex;\n",
       "      flex-wrap:wrap;\n",
       "      gap: 12px;\n",
       "    }\n",
       "\n",
       "    .colab-df-convert {\n",
       "      background-color: #E8F0FE;\n",
       "      border: none;\n",
       "      border-radius: 50%;\n",
       "      cursor: pointer;\n",
       "      display: none;\n",
       "      fill: #1967D2;\n",
       "      height: 32px;\n",
       "      padding: 0 0 0 0;\n",
       "      width: 32px;\n",
       "    }\n",
       "\n",
       "    .colab-df-convert:hover {\n",
       "      background-color: #E2EBFA;\n",
       "      box-shadow: 0px 1px 2px rgba(60, 64, 67, 0.3), 0px 1px 3px 1px rgba(60, 64, 67, 0.15);\n",
       "      fill: #174EA6;\n",
       "    }\n",
       "\n",
       "    [theme=dark] .colab-df-convert {\n",
       "      background-color: #3B4455;\n",
       "      fill: #D2E3FC;\n",
       "    }\n",
       "\n",
       "    [theme=dark] .colab-df-convert:hover {\n",
       "      background-color: #434B5C;\n",
       "      box-shadow: 0px 1px 3px 1px rgba(0, 0, 0, 0.15);\n",
       "      filter: drop-shadow(0px 1px 2px rgba(0, 0, 0, 0.3));\n",
       "      fill: #FFFFFF;\n",
       "    }\n",
       "  </style>\n",
       "\n",
       "      <script>\n",
       "        const buttonEl =\n",
       "          document.querySelector('#df-f82d3069-61e4-4af1-801b-244097e3a4e4 button.colab-df-convert');\n",
       "        buttonEl.style.display =\n",
       "          google.colab.kernel.accessAllowed ? 'block' : 'none';\n",
       "\n",
       "        async function convertToInteractive(key) {\n",
       "          const element = document.querySelector('#df-f82d3069-61e4-4af1-801b-244097e3a4e4');\n",
       "          const dataTable =\n",
       "            await google.colab.kernel.invokeFunction('convertToInteractive',\n",
       "                                                     [key], {});\n",
       "          if (!dataTable) return;\n",
       "\n",
       "          const docLinkHtml = 'Like what you see? Visit the ' +\n",
       "            '<a target=\"_blank\" href=https://colab.research.google.com/notebooks/data_table.ipynb>data table notebook</a>'\n",
       "            + ' to learn more about interactive tables.';\n",
       "          element.innerHTML = '';\n",
       "          dataTable['output_type'] = 'display_data';\n",
       "          await google.colab.output.renderOutput(dataTable, element);\n",
       "          const docLink = document.createElement('div');\n",
       "          docLink.innerHTML = docLinkHtml;\n",
       "          element.appendChild(docLink);\n",
       "        }\n",
       "      </script>\n",
       "    </div>\n",
       "  </div>\n",
       "  "
      ],
      "text/plain": [
       "       reviewerID                                         reviewText  overall  \\\n",
       "0  A1D4G1SNUZWQOT                                     exactly needed        5   \n",
       "1  A3DDWDH9PX2YX2  agree review opening small almost bent hook ex...        2   \n",
       "2  A2MWC41EW7XL15  love going order another pack keep work someon...        4   \n",
       "3  A2UH2QQ275NV45                                       tiny opening        2   \n",
       "4   A89F3LQADZBS5                                               okay        3   \n",
       "\n",
       "         asin sentiment  \n",
       "0  7106116521         0  \n",
       "1  7106116521         2  \n",
       "2  7106116521         0  \n",
       "3  7106116521         2  \n",
       "4  7106116521         1  "
      ]
     },
     "execution_count": 15,
     "metadata": {},
     "output_type": "execute_result"
    }
   ],
   "source": [
    "#Data Labelling steps\n",
    "uniqueData['reviewText'] = lemmatized_reviews\n",
    "conditions = [\n",
    "    (uniqueData['overall'] >= 4),\n",
    "    (uniqueData['overall'] == 3),\n",
    "    (uniqueData['overall'] <= 2)\n",
    "    ]\n",
    "values = ['0', '1', '2']\n",
    "uniqueData['sentiment'] = np.select(conditions, values)\n",
    "uniqueData.head()"
   ]
  },
  {
   "cell_type": "code",
   "execution_count": 16,
   "metadata": {
    "colab": {
     "base_uri": "https://localhost:8080/"
    },
    "executionInfo": {
     "elapsed": 16,
     "status": "ok",
     "timestamp": 1651259884369,
     "user": {
      "displayName": "Koditipalli Dinesh",
      "userId": "09422897118493776278"
     },
     "user_tz": 300
    },
    "id": "bb1b868b",
    "outputId": "cda13cdb-5b3f-4847-f5e8-a52e3a360c87"
   },
   "outputs": [
    {
     "name": "stdout",
     "output_type": "stream",
     "text": [
      "feature names\n",
      "['agree', 'almost', 'always', 'another', 'back', 'bent', 'bit', 'buy', 'dont', 'earring', 'end', 'exactly', 'expensive', 'fish', 'get', 'going', 'higher', 'hook', 'including', 'keep', 'longer', 'losing', 'love', 'needed', 'okay', 'opening', 'order', 'pack', 'price', 'review', 'seen', 'sending', 'small', 'someone', 'theyre', 'tiny', 'trying', 'understand', 'wish', 'work', 'would']\n",
      "      agree    almost    always   another      back      bent       bit  \\\n",
      "0  0.000000  0.000000  0.000000  0.000000  0.000000  0.000000  0.000000   \n",
      "1  0.231847  0.231847  0.000000  0.000000  0.187052  0.231847  0.000000   \n",
      "2  0.000000  0.000000  0.201798  0.201798  0.162810  0.000000  0.201798   \n",
      "3  0.000000  0.000000  0.000000  0.000000  0.000000  0.000000  0.000000   \n",
      "4  0.000000  0.000000  0.000000  0.000000  0.000000  0.000000  0.000000   \n",
      "\n",
      "        buy      dont   earring  ...   sending     small   someone    theyre  \\\n",
      "0  0.000000  0.000000  0.000000  ...  0.000000  0.000000  0.000000  0.000000   \n",
      "1  0.231847  0.000000  0.187052  ...  0.231847  0.231847  0.000000  0.231847   \n",
      "2  0.000000  0.403597  0.325619  ...  0.000000  0.000000  0.201798  0.000000   \n",
      "3  0.000000  0.000000  0.000000  ...  0.000000  0.000000  0.000000  0.000000   \n",
      "4  0.000000  0.000000  0.000000  ...  0.000000  0.000000  0.000000  0.000000   \n",
      "\n",
      "       tiny    trying  understand      wish      work     would  \n",
      "0  0.000000  0.000000    0.000000  0.000000  0.000000  0.000000  \n",
      "1  0.000000  0.231847    0.000000  0.000000  0.000000  0.231847  \n",
      "2  0.162810  0.000000    0.201798  0.201798  0.201798  0.000000  \n",
      "3  0.707107  0.000000    0.000000  0.000000  0.000000  0.000000  \n",
      "4  0.000000  0.000000    0.000000  0.000000  0.000000  0.000000  \n",
      "\n",
      "[5 rows x 41 columns]\n"
     ]
    },
    {
     "name": "stderr",
     "output_type": "stream",
     "text": [
      "/usr/local/lib/python3.7/dist-packages/sklearn/utils/deprecation.py:87: FutureWarning: Function get_feature_names is deprecated; get_feature_names is deprecated in 1.0 and will be removed in 1.2. Please use get_feature_names_out instead.\n",
      "  warnings.warn(msg, category=FutureWarning)\n"
     ]
    }
   ],
   "source": [
    "#Data Vectorization steps\n",
    "from sklearn.feature_extraction.text import TfidfVectorizer\n",
    "vectorizer = TfidfVectorizer()\n",
    "corpus = ['exactly needed', 'agree review opening small almost bent hook expensive earring trying get higher end theyre seen would buy price sending back', 'love going order another pack keep work someone including always losing back earring dont understand fish hook earring dont wish tiny bit longer', 'tiny opening', 'okay']\n",
    "vectors = vectorizer.fit_transform(corpus)\n",
    "feature_names = vectorizer.get_feature_names()\n",
    "print(f\"feature names\\n{feature_names}\")\n",
    "matrix = vectors.todense()\n",
    "list_dense = matrix.tolist()\n",
    "dataFrame= pd.DataFrame(list_dense, columns=feature_names)\n",
    "print(dataFrame)"
   ]
  },
  {
   "cell_type": "code",
   "execution_count": 17,
   "metadata": {
    "executionInfo": {
     "elapsed": 870,
     "status": "ok",
     "timestamp": 1651259885231,
     "user": {
      "displayName": "Koditipalli Dinesh",
      "userId": "09422897118493776278"
     },
     "user_tz": 300
    },
    "id": "1fbd7f05"
   },
   "outputs": [],
   "source": [
    "#Splitting data into test and train sets\n",
    "x = uniqueData['reviewText'].values\n",
    "y = uniqueData['sentiment'].values\n",
    "from sklearn.model_selection import train_test_split\n",
    "x_train,x_test,y_train,y_test = train_test_split(x,y,test_size = 0.2,random_state = 0,stratify = y)"
   ]
  },
  {
   "cell_type": "code",
   "execution_count": 18,
   "metadata": {
    "colab": {
     "base_uri": "https://localhost:8080/"
    },
    "executionInfo": {
     "elapsed": 8,
     "status": "ok",
     "timestamp": 1651259885503,
     "user": {
      "displayName": "Koditipalli Dinesh",
      "userId": "09422897118493776278"
     },
     "user_tz": 300
    },
    "id": "50363f7f",
    "outputId": "177940a1-bd38-4f97-826a-45bed03e5cd8"
   },
   "outputs": [
    {
     "data": {
      "text/plain": [
       "(array(['0', '1', '2'], dtype=object), array([416207,  71508, 127320]))"
      ]
     },
     "execution_count": 18,
     "metadata": {},
     "output_type": "execute_result"
    }
   ],
   "source": [
    "np.unique(y_train,return_counts=True)"
   ]
  },
  {
   "cell_type": "code",
   "execution_count": 19,
   "metadata": {
    "colab": {
     "base_uri": "https://localhost:8080/"
    },
    "executionInfo": {
     "elapsed": 11,
     "status": "ok",
     "timestamp": 1651259885764,
     "user": {
      "displayName": "Koditipalli Dinesh",
      "userId": "09422897118493776278"
     },
     "user_tz": 300
    },
    "id": "15eca9b5",
    "outputId": "32964365-427a-49fe-cf2d-75ae397882b3"
   },
   "outputs": [
    {
     "data": {
      "text/plain": [
       "(array(['0', '1', '2'], dtype=object), array([104052,  17877,  31830]))"
      ]
     },
     "execution_count": 19,
     "metadata": {},
     "output_type": "execute_result"
    }
   ],
   "source": [
    "np.unique(y_test,return_counts=True)"
   ]
  },
  {
   "cell_type": "code",
   "execution_count": 20,
   "metadata": {
    "executionInfo": {
     "elapsed": 2771,
     "status": "ok",
     "timestamp": 1651259888529,
     "user": {
      "displayName": "Koditipalli Dinesh",
      "userId": "09422897118493776278"
     },
     "user_tz": 300
    },
    "id": "66a1cd45"
   },
   "outputs": [],
   "source": [
    "#LSTM\n",
    "from sklearn.pipeline import Pipeline\n",
    "from sklearn.feature_extraction.text import TfidfVectorizer\n",
    "import os\n",
    "from tensorflow.keras.preprocessing.sequence import pad_sequences\n",
    "from keras.preprocessing import sequence\n",
    "from keras.utils import np_utils\n",
    "from keras.models import Sequential\n",
    "from tensorflow.keras.layers import Input\n",
    "from keras.layers.core import Dense, Dropout, Activation, Lambda\n",
    "from keras.layers.embeddings import Embedding\n",
    "from keras.layers.recurrent import LSTM, SimpleRNN, GRU\n",
    "from keras.preprocessing.text import Tokenizer\n",
    "from collections import defaultdict\n",
    "from keras.layers.convolutional import Convolution1D\n",
    "from keras import backend as K\n",
    "from keras.layers.embeddings import Embedding"
   ]
  },
  {
   "cell_type": "code",
   "execution_count": 21,
   "metadata": {
    "executionInfo": {
     "elapsed": 9,
     "status": "ok",
     "timestamp": 1651259888530,
     "user": {
      "displayName": "Koditipalli Dinesh",
      "userId": "09422897118493776278"
     },
     "user_tz": 300
    },
    "id": "41554263"
   },
   "outputs": [],
   "source": [
    "top_words = 2000 \n",
    "maxlen = 100 \n",
    "batch_size = 32\n",
    "nb_classes = 3\n",
    "nb_epoch = 10"
   ]
  },
  {
   "cell_type": "code",
   "execution_count": 22,
   "metadata": {
    "colab": {
     "base_uri": "https://localhost:8080/"
    },
    "executionInfo": {
     "elapsed": 29048,
     "status": "ok",
     "timestamp": 1651259917574,
     "user": {
      "displayName": "Koditipalli Dinesh",
      "userId": "09422897118493776278"
     },
     "user_tz": 300
    },
    "id": "mV6MnN_19KtA",
    "outputId": "eba4ba7e-9810-4c54-ccbf-3af5a13ba61e"
   },
   "outputs": [
    {
     "name": "stderr",
     "output_type": "stream",
     "text": [
      "/usr/local/lib/python3.7/dist-packages/keras_preprocessing/text.py:180: UserWarning: The `nb_words` argument in `Tokenizer` has been renamed `num_words`.\n",
      "  warnings.warn('The `nb_words` argument in `Tokenizer` '\n"
     ]
    }
   ],
   "source": [
    "# Vectorize X_train and X_test to 2D tensor\n",
    "tokenizer = Tokenizer(nb_words=top_words) #only consider top 20000 words in the corpse\n",
    "tokenizer.fit_on_texts(x_train)\n",
    "\n",
    "sequences_train = tokenizer.texts_to_sequences(x_train)\n",
    "sequences_test = tokenizer.texts_to_sequences(x_test)\n",
    "\n",
    "X_train_seq = sequence.pad_sequences(sequences_train, maxlen=maxlen)\n",
    "X_test_seq = sequence.pad_sequences(sequences_test, maxlen=maxlen)"
   ]
  },
  {
   "cell_type": "code",
   "execution_count": 23,
   "metadata": {
    "colab": {
     "base_uri": "https://localhost:8080/"
    },
    "executionInfo": {
     "elapsed": 32044,
     "status": "ok",
     "timestamp": 1651259949598,
     "user": {
      "displayName": "Koditipalli Dinesh",
      "userId": "09422897118493776278"
     },
     "user_tz": 300
    },
    "id": "ce639e29",
    "outputId": "8f2c396c-a1cd-4e40-b48f-0ba5e5eb31ff"
   },
   "outputs": [
    {
     "data": {
      "text/plain": [
       "array([[  0,   0,   0, ...,   0, 112, 229],\n",
       "       [  0,   0,   0, ...,  26, 998,  48],\n",
       "       [  0,   0,   0, ..., 415,  46, 265]], dtype=int32)"
      ]
     },
     "execution_count": 23,
     "metadata": {},
     "output_type": "execute_result"
    }
   ],
   "source": [
    "tokenizer = Tokenizer(num_words=top_words, split=' ')\n",
    "tokenizer.fit_on_texts(uniqueData['reviewText'].values)\n",
    "X = tokenizer.texts_to_sequences(uniqueData['reviewText'].values)\n",
    "X = pad_sequences(X)\n",
    "X[:3]"
   ]
  },
  {
   "cell_type": "code",
   "execution_count": 24,
   "metadata": {
    "executionInfo": {
     "elapsed": 79,
     "status": "ok",
     "timestamp": 1651259949604,
     "user": {
      "displayName": "Koditipalli Dinesh",
      "userId": "09422897118493776278"
     },
     "user_tz": 300
    },
    "id": "9q4ibpk-9U0H"
   },
   "outputs": [],
   "source": [
    "# one-hot encoding of y_train and y_test\n",
    "y_train_seq = np_utils.to_categorical(y_train, nb_classes)\n",
    "y_test_seq = np_utils.to_categorical(y_test, nb_classes)"
   ]
  },
  {
   "cell_type": "code",
   "execution_count": 25,
   "metadata": {
    "colab": {
     "base_uri": "https://localhost:8080/"
    },
    "executionInfo": {
     "elapsed": 59,
     "status": "ok",
     "timestamp": 1651259949608,
     "user": {
      "displayName": "Koditipalli Dinesh",
      "userId": "09422897118493776278"
     },
     "user_tz": 300
    },
    "id": "tz55HpbaDQd1",
    "outputId": "e2b0e378-a1ad-4679-e979-7b4fa331a8b5"
   },
   "outputs": [
    {
     "name": "stdout",
     "output_type": "stream",
     "text": [
      "X_train shape: (615035, 100)\n",
      "========================================\n",
      "X_test shape: (153759, 100)\n",
      "========================================\n",
      "y_train shape: (615035, 3)\n",
      "========================================\n",
      "y_test shape: (153759, 3)\n",
      "========================================\n"
     ]
    }
   ],
   "source": [
    "print('X_train shape:', X_train_seq.shape)\n",
    "print(\"========================================\")\n",
    "print('X_test shape:', X_test_seq.shape)\n",
    "print(\"========================================\")\n",
    "print('y_train shape:', y_train_seq.shape)\n",
    "print(\"========================================\")\n",
    "print('y_test shape:', y_test_seq.shape)\n",
    "print(\"========================================\")"
   ]
  },
  {
   "cell_type": "code",
   "execution_count": 26,
   "metadata": {
    "colab": {
     "base_uri": "https://localhost:8080/"
    },
    "executionInfo": {
     "elapsed": 3365,
     "status": "ok",
     "timestamp": 1651259952935,
     "user": {
      "displayName": "Koditipalli Dinesh",
      "userId": "09422897118493776278"
     },
     "user_tz": 300
    },
    "id": "U9WC9s0FWsne",
    "outputId": "20121bbb-7b20-4a41-e461-2fe8a294a902"
   },
   "outputs": [
    {
     "name": "stdout",
     "output_type": "stream",
     "text": [
      "WARNING:tensorflow:Layer lstm will not use cuDNN kernels since it doesn't meet the criteria. It will use a generic GPU kernel as fallback when running on GPU.\n",
      "Model: \"sequential\"\n",
      "_________________________________________________________________\n",
      " Layer (type)                Output Shape              Param #   \n",
      "=================================================================\n",
      " embedding (Embedding)       (None, 100, 128)          256000    \n",
      "                                                                 \n",
      " spatial_dropout1d (SpatialD  (None, 100, 128)         0         \n",
      " ropout1D)                                                       \n",
      "                                                                 \n",
      " lstm (LSTM)                 (None, 196)               254800    \n",
      "                                                                 \n",
      " dense (Dense)               (None, 3)                 591       \n",
      "                                                                 \n",
      "=================================================================\n",
      "Total params: 511,391\n",
      "Trainable params: 511,391\n",
      "Non-trainable params: 0\n",
      "_________________________________________________________________\n",
      "None\n"
     ]
    }
   ],
   "source": [
    "embed_dim = 128\n",
    "lstm_out = 196\n",
    "from keras.layers import Dense, Embedding, LSTM, SpatialDropout1D\n",
    "model = Sequential()\n",
    "model.add(Embedding(top_words, embed_dim,input_length = X_train_seq.shape[1]))\n",
    "model.add(SpatialDropout1D(0.4))\n",
    "model.add(LSTM(lstm_out, dropout=0.2, recurrent_dropout=0.2))\n",
    "model.add(Dense(3,activation='softmax'))\n",
    "model.compile(loss = 'categorical_crossentropy', optimizer='adam',metrics = ['accuracy'])\n",
    "print(model.summary())"
   ]
  },
  {
   "cell_type": "code",
   "execution_count": 27,
   "metadata": {
    "colab": {
     "base_uri": "https://localhost:8080/"
    },
    "executionInfo": {
     "elapsed": 40,
     "status": "ok",
     "timestamp": 1651259952937,
     "user": {
      "displayName": "Koditipalli Dinesh",
      "userId": "09422897118493776278"
     },
     "user_tz": 300
    },
    "id": "D2M7En_gITAW",
    "outputId": "68f9c953-d5ae-4108-936b-2ad5e88a37e3"
   },
   "outputs": [
    {
     "name": "stdout",
     "output_type": "stream",
     "text": [
      "(522779, 100) (522779, 3)\n",
      "(92256, 100) (92256, 3)\n"
     ]
    }
   ],
   "source": [
    "X_train, X_test, Y_train, Y_test = train_test_split(X_train_seq,y_train_seq, test_size = 0.15, random_state = 42)\n",
    "print(X_train.shape,Y_train.shape)\n",
    "print(X_test.shape,Y_test.shape)"
   ]
  },
  {
   "cell_type": "code",
   "execution_count": 28,
   "metadata": {
    "colab": {
     "base_uri": "https://localhost:8080/",
     "height": 37
    },
    "executionInfo": {
     "elapsed": 31,
     "status": "ok",
     "timestamp": 1651259952938,
     "user": {
      "displayName": "Koditipalli Dinesh",
      "userId": "09422897118493776278"
     },
     "user_tz": 300
    },
    "id": "UMjTabPFiHDh",
    "outputId": "40f49be4-b3a2-4a24-cce1-a1a5ffc6df30"
   },
   "outputs": [
    {
     "data": {
      "application/vnd.google.colaboratory.intrinsic+json": {
       "type": "string"
      },
      "text/plain": [
       "'/device:GPU:0'"
      ]
     },
     "execution_count": 28,
     "metadata": {},
     "output_type": "execute_result"
    }
   ],
   "source": [
    "import tensorflow as tf\n",
    "tf.test.gpu_device_name()"
   ]
  },
  {
   "cell_type": "code",
   "execution_count": 29,
   "metadata": {
    "colab": {
     "base_uri": "https://localhost:8080/"
    },
    "executionInfo": {
     "elapsed": 723551,
     "status": "ok",
     "timestamp": 1651279282636,
     "user": {
      "displayName": "Koditipalli Dinesh",
      "userId": "09422897118493776278"
     },
     "user_tz": 300
    },
    "id": "7c7f53f0",
    "outputId": "ba937c51-d90e-4426-a0cd-e87325595d44"
   },
   "outputs": [
    {
     "name": "stdout",
     "output_type": "stream",
     "text": [
      "Epoch 1/10\n",
      "3472/3472 [==============================] - 1991s 572ms/step - loss: 0.4755 - accuracy: 0.8113 - val_loss: 0.4399 - val_accuracy: 0.8233\n",
      "Epoch 2/10\n",
      "3472/3472 [==============================] - 1960s 565ms/step - loss: 0.4391 - accuracy: 0.8242 - val_loss: 0.4274 - val_accuracy: 0.8282\n",
      "Epoch 3/10\n",
      "3472/3472 [==============================] - 1961s 565ms/step - loss: 0.4265 - accuracy: 0.8298 - val_loss: 0.4192 - val_accuracy: 0.8304\n",
      "Epoch 4/10\n",
      "3472/3472 [==============================] - 1960s 564ms/step - loss: 0.4173 - accuracy: 0.8329 - val_loss: 0.4149 - val_accuracy: 0.8318\n",
      "Epoch 5/10\n",
      "3472/3472 [==============================] - 1989s 573ms/step - loss: 0.4099 - accuracy: 0.8357 - val_loss: 0.4129 - val_accuracy: 0.8327\n",
      "Epoch 6/10\n",
      "3472/3472 [==============================] - 1950s 562ms/step - loss: 0.4033 - accuracy: 0.8381 - val_loss: 0.4141 - val_accuracy: 0.8331\n",
      "Epoch 7/10\n",
      "3472/3472 [==============================] - 1894s 545ms/step - loss: 0.3975 - accuracy: 0.8401 - val_loss: 0.4109 - val_accuracy: 0.8344\n",
      "Epoch 8/10\n",
      "3472/3472 [==============================] - 1873s 539ms/step - loss: 0.3923 - accuracy: 0.8420 - val_loss: 0.4121 - val_accuracy: 0.8352\n",
      "Epoch 9/10\n",
      "3472/3472 [==============================] - 1887s 543ms/step - loss: 0.3883 - accuracy: 0.8437 - val_loss: 0.4120 - val_accuracy: 0.8350\n",
      "Epoch 10/10\n",
      "3472/3472 [==============================] - 1864s 537ms/step - loss: 0.3840 - accuracy: 0.8452 - val_loss: 0.4141 - val_accuracy: 0.8337\n"
     ]
    }
   ],
   "source": [
    "batch_size = 128\n",
    "history = model.fit(X_train, Y_train, epochs = 10, batch_size=128, verbose = 1,validation_split = 0.15)"
   ]
  },
  {
   "cell_type": "code",
   "execution_count": 30,
   "metadata": {
    "colab": {
     "base_uri": "https://localhost:8080/"
    },
    "executionInfo": {
     "elapsed": 40871,
     "status": "ok",
     "timestamp": 1651279323496,
     "user": {
      "displayName": "Koditipalli Dinesh",
      "userId": "09422897118493776278"
     },
     "user_tz": 300
    },
    "id": "gwilEIp6tx4g",
    "outputId": "f0327f4d-e581-4745-ac72-24179234231c"
   },
   "outputs": [
    {
     "name": "stdout",
     "output_type": "stream",
     "text": [
      "721/721 [==============================] - 32s 45ms/step - loss: 0.4195 - accuracy: 0.8326\n",
      "validation loss, validation accuracy: [0.41945716738700867, 0.8326287865638733]\n"
     ]
    }
   ],
   "source": [
    "results = model.evaluate(X_test,Y_test, batch_size=batch_size)\n",
    "print(\"validation loss, validation accuracy:\",results)"
   ]
  },
  {
   "cell_type": "code",
   "execution_count": null,
   "metadata": {
    "id": "ZC8uwXmlAnOh"
   },
   "outputs": [],
   "source": [
    "Y_pred = model.predict(X_test,batch_size = batch_size)\n",
    "print(Y_pred.shape)"
   ]
  },
  {
   "cell_type": "code",
   "execution_count": 32,
   "metadata": {
    "colab": {
     "base_uri": "https://localhost:8080/",
     "height": 295
    },
    "executionInfo": {
     "elapsed": 10,
     "status": "ok",
     "timestamp": 1651279364909,
     "user": {
      "displayName": "Koditipalli Dinesh",
      "userId": "09422897118493776278"
     },
     "user_tz": 300
    },
    "id": "pyYb8WrtJP14",
    "outputId": "28098080-4585-47db-e6f1-858facd535f5"
   },
   "outputs": [
    {
     "data": {
      "image/png": "[encoded data removed]",
      "text/plain": [
       "<Figure size 432x288 with 1 Axes>"
      ]
     },
     "metadata": {
      "needs_background": "light"
     },
     "output_type": "display_data"
    }
   ],
   "source": [
    "plt.plot(history.history['accuracy'], 'b')\n",
    "plt.plot(history.history['val_accuracy'], 'r')\n",
    "plt.title('Model Accuracy'),\n",
    "plt.xlabel('Epochs')\n",
    "plt.ylabel('Accuracy')\n",
    "plt.legend(['Train', 'Validation'], loc='upper left')\n",
    "plt.show()"
   ]
  },
  {
   "cell_type": "code",
   "execution_count": 33,
   "metadata": {
    "colab": {
     "base_uri": "https://localhost:8080/",
     "height": 295
    },
    "executionInfo": {
     "elapsed": 195,
     "status": "ok",
     "timestamp": 1651279365440,
     "user": {
      "displayName": "Koditipalli Dinesh",
      "userId": "09422897118493776278"
     },
     "user_tz": 300
    },
    "id": "T-VJ7rijXu88",
    "outputId": "9e0fa806-285b-48c0-d0bd-c5fb8fcaaca1"
   },
   "outputs": [
    {
     "data": {
      "image/png": "[encoded data removed]",
      "text/plain": [
       "<Figure size 432x288 with 1 Axes>"
      ]
     },
     "metadata": {},
     "output_type": "display_data"
    }
   ],
   "source": [
    "plt.plot(history.history['loss'], 'b')\n",
    "plt.plot(history.history['val_loss'], 'r')\n",
    "plt.title('Model Loss'),\n",
    "plt.xlabel('Epochs')\n",
    "plt.ylabel('Loss')\n",
    "plt.legend(['Train', 'Validation'], loc='upper left')\n",
    "plt.show()"
   ]
  }
 ],
 "metadata": {
  "accelerator": "GPU",
  "colab": {
   "collapsed_sections": [],
   "name": "ML_LSTM_Final.ipynb",
   "provenance": [
    {
     "file_id": "1nCHkMEgKZcUAu4hkjZPwKtTIUWf-2UV6",
     "timestamp": 1650776092730
    }
   ]
  },
  "kernelspec": {
   "display_name": "Python 3",
   "language": "python",
   "name": "python3"
  },
  "language_info": {
   "codemirror_mode": {
    "name": "ipython",
    "version": 3
   },
   "file_extension": ".py",
   "mimetype": "text/x-python",
   "name": "python",
   "nbconvert_exporter": "python",
   "pygments_lexer": "ipython3",
   "version": "3.8.5"
  }
 },
 "nbformat": 4,
 "nbformat_minor": 5
}
