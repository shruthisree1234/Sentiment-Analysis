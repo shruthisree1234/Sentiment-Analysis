{
 "cells": [
  {
   "cell_type": "code",
   "execution_count": 1,
   "id": "55f7dd1a",
   "metadata": {
    "executionInfo": {
     "elapsed": 6,
     "status": "ok",
     "timestamp": 1650773699120,
     "user": {
      "displayName": "Koditipalli Dinesh",
      "userId": "09422897118493776278"
     },
     "user_tz": 300
    },
    "id": "86669a57"
   },
   "outputs": [],
   "source": [
    "#CSE 6363 - Machine Learning\n",
    "#Team 13 - Project Submission 2\n",
    "\n",
    "    #Shruthi Sree Thirunavukkarasu (1001933428)\n",
    "    #Dinesh Kumar KodithiPalli Lava Kumar (1001949238)\n"
   ]
  },
  {
   "cell_type": "code",
   "execution_count": 2,
   "id": "671d26e4",
   "metadata": {
    "colab": {
     "base_uri": "https://localhost:8080/"
    },
    "executionInfo": {
     "elapsed": 4711,
     "status": "ok",
     "timestamp": 1650773703828,
     "user": {
      "displayName": "Koditipalli Dinesh",
      "userId": "09422897118493776278"
     },
     "user_tz": 300
    },
    "id": "b4278845",
    "outputId": "1fe68c65-398d-426f-a22a-f53c34e6d986"
   },
   "outputs": [
    {
     "name": "stderr",
     "output_type": "stream",
     "text": [
      "[nltk_data] Downloading package stopwords to C:\\Users\\shruthi\n",
      "[nltk_data]     sree\\AppData\\Roaming\\nltk_data...\n",
      "[nltk_data]   Package stopwords is already up-to-date!\n",
      "[nltk_data] Downloading package wordnet to C:\\Users\\shruthi\n",
      "[nltk_data]     sree\\AppData\\Roaming\\nltk_data...\n",
      "[nltk_data]   Package wordnet is already up-to-date!\n",
      "[nltk_data] Downloading package omw-1.4 to C:\\Users\\shruthi\n",
      "[nltk_data]     sree\\AppData\\Roaming\\nltk_data...\n",
      "[nltk_data]   Package omw-1.4 is already up-to-date!\n"
     ]
    }
   ],
   "source": [
    "import pandas as pd\n",
    "import numpy as np\n",
    "import matplotlib.pyplot as plt\n",
    "import seaborn as sns\n",
    "import re\n",
    "import string\n",
    "import nltk\n",
    "nltk.download('stopwords')\n",
    "nltk.download('wordnet')\n",
    "nltk.download('omw-1.4')\n",
    "from nltk.corpus import stopwords\n",
    "from nltk.stem import WordNetLemmatizer\n",
    "from nltk.tokenize import word_tokenize\n",
    "from wordcloud import WordCloud\n",
    "from nltk.stem.porter import PorterStemmer"
   ]
  },
  {
   "cell_type": "code",
   "execution_count": 3,
   "id": "656f9772",
   "metadata": {
    "colab": {
     "base_uri": "https://localhost:8080/",
     "height": 299
    },
    "executionInfo": {
     "elapsed": 84140,
     "status": "ok",
     "timestamp": 1650773787961,
     "user": {
      "displayName": "Koditipalli Dinesh",
      "userId": "09422897118493776278"
     },
     "user_tz": 300
    },
    "id": "d23ac410",
    "outputId": "b464b2a7-6e41-463b-e02e-968501a58d3c"
   },
   "outputs": [
    {
     "ename": "ModuleNotFoundError",
     "evalue": "No module named 'google.colab'",
     "output_type": "error",
     "traceback": [
      "\u001b[1;31m---------------------------------------------------------------------------\u001b[0m",
      "\u001b[1;31mModuleNotFoundError\u001b[0m                       Traceback (most recent call last)",
      "Input \u001b[1;32mIn [3]\u001b[0m, in \u001b[0;36m<cell line: 1>\u001b[1;34m()\u001b[0m\n\u001b[1;32m----> 1\u001b[0m \u001b[38;5;28;01mfrom\u001b[39;00m \u001b[38;5;21;01mgoogle\u001b[39;00m\u001b[38;5;21;01m.\u001b[39;00m\u001b[38;5;21;01mcolab\u001b[39;00m \u001b[38;5;28;01mimport\u001b[39;00m drive\n\u001b[0;32m      2\u001b[0m drive\u001b[38;5;241m.\u001b[39mmount(\u001b[38;5;124m'\u001b[39m\u001b[38;5;124m/content/drive\u001b[39m\u001b[38;5;124m'\u001b[39m)\n\u001b[0;32m      4\u001b[0m \u001b[38;5;66;03m#Reading input file with dataset\u001b[39;00m\n",
      "\u001b[1;31mModuleNotFoundError\u001b[0m: No module named 'google.colab'"
     ]
    }
   ],
   "source": [
    "from google.colab import drive\n",
    "drive.mount('/content/drive')\n",
    "\n",
    "#Reading input file with dataset\n",
    "rawData=pd.read_json(r\"/content/drive/MyDrive/Colab Notebooks/AMAZON_FASHION.json.gz\",lines=True,orient='columns')\n",
    "rawData.head()"
   ]
  },
  {
   "cell_type": "code",
   "execution_count": null,
   "id": "30c293fd",
   "metadata": {
    "colab": {
     "base_uri": "https://localhost:8080/"
    },
    "executionInfo": {
     "elapsed": 364,
     "status": "ok",
     "timestamp": 1650773788431,
     "user": {
      "displayName": "Koditipalli Dinesh",
      "userId": "09422897118493776278"
     },
     "user_tz": 300
    },
    "id": "35d9e3b0",
    "outputId": "7e7f37f2-7edb-434f-a45d-a030790094b5"
   },
   "outputs": [],
   "source": [
    "#Removing duplicate reviews\n",
    "print(\"The shape of the data set before removing duplicate reviews : {}\".format(rawData.shape))\n",
    "rawData=rawData.drop_duplicates(subset=[\"reviewText\"], keep='first', inplace=False)\n",
    "print(\"The shape of the data set after removing duplicate reviews : {}\".format(rawData.shape))"
   ]
  },
  {
   "cell_type": "code",
   "execution_count": null,
   "id": "bfcfe75d",
   "metadata": {
    "colab": {
     "base_uri": "https://localhost:8080/"
    },
    "executionInfo": {
     "elapsed": 138,
     "status": "ok",
     "timestamp": 1650773788565,
     "user": {
      "displayName": "Koditipalli Dinesh",
      "userId": "09422897118493776278"
     },
     "user_tz": 300
    },
    "id": "48fb6f79",
    "outputId": "2149640a-050f-4510-8028-236d3968381f",
    "scrolled": true
   },
   "outputs": [],
   "source": [
    "#Extracting required columns from the dataset\n",
    "reviewData = rawData[[\"reviewerID\",\"reviewText\",\"overall\",\"asin\"]]\n",
    "reviewData = reviewData.sample(n=40000)\n",
    "reviewData.info()"
   ]
  },
  {
   "cell_type": "code",
   "execution_count": null,
   "id": "0c55fa7e",
   "metadata": {
    "colab": {
     "base_uri": "https://localhost:8080/",
     "height": 391
    },
    "executionInfo": {
     "elapsed": 8,
     "status": "ok",
     "timestamp": 1650773788566,
     "user": {
      "displayName": "Koditipalli Dinesh",
      "userId": "09422897118493776278"
     },
     "user_tz": 300
    },
    "id": "a369a66d",
    "outputId": "ae1435ac-029e-4f54-8940-2be46ab69083",
    "scrolled": true
   },
   "outputs": [],
   "source": [
    "#Removing null entries from the dataset\n",
    "uniqueData = reviewData.dropna()\n",
    "uniqueData.info()\n",
    "uniqueData.head()"
   ]
  },
  {
   "cell_type": "code",
   "execution_count": null,
   "id": "0037ada9",
   "metadata": {
    "colab": {
     "base_uri": "https://localhost:8080/",
     "height": 346
    },
    "executionInfo": {
     "elapsed": 8409,
     "status": "ok",
     "timestamp": 1650773797227,
     "user": {
      "displayName": "Koditipalli Dinesh",
      "userId": "09422897118493776278"
     },
     "user_tz": 300
    },
    "id": "81c4b441",
    "outputId": "1a4f49e6-02ee-4e92-a544-0f99c4803f97"
   },
   "outputs": [],
   "source": [
    "#Generating Wordcloud for the reviews\n",
    "reviewTextData = uniqueData['reviewText']\n",
    "wordcloud = WordCloud(background_color='white',\n",
    "                      width=1000,\n",
    "                      height=1000\n",
    "                     ).generate(\" \".join(reviewTextData))\n",
    "plt.figure(figsize=(10,5))\n",
    "plt.imshow(wordcloud)\n",
    "plt.title('All Words in the Reviews\\n',size=20)\n",
    "plt.axis('off')\n",
    "plt.show()"
   ]
  },
  {
   "cell_type": "code",
   "execution_count": null,
   "id": "6b0face2",
   "metadata": {
    "executionInfo": {
     "elapsed": 521,
     "status": "ok",
     "timestamp": 1650773797865,
     "user": {
      "displayName": "Koditipalli Dinesh",
      "userId": "09422897118493776278"
     },
     "user_tz": 300
    },
    "id": "630a44a3"
   },
   "outputs": [],
   "source": [
    "#Joining all review texts into a single text line separated by space\n",
    "reviewTextData = \" \".join(uniqueData['reviewText'])\n",
    "\n",
    "#Creating list of sentiment words to compare and measure frequency\n",
    "words = ['awesome','great','fantastic','extraordinary','amazing','super',\n",
    "                 'magnificent','stunning','impressive','wonderful','breathtaking',\n",
    "                 'love','content','pleased','happy','glad','satisfied','lucky',\n",
    "                 'shocking','cheerful','wow','sad','unhappy','horrible','regret',\n",
    "                 'bad','terrible','annoyed','disappointed','upset','awful','hate']\n",
    "\n",
    "\n",
    "#Counting frequency of sentiment words in review text\n",
    "wordFrequency = {}\n",
    "for word in reviewTextData.split(\" \"):\n",
    "    if word in words:\n",
    "        wordFrequency[word] = wordFrequency.get(word,0)+1"
   ]
  },
  {
   "cell_type": "code",
   "execution_count": null,
   "id": "a39c7111",
   "metadata": {
    "colab": {
     "base_uri": "https://localhost:8080/",
     "height": 297
    },
    "executionInfo": {
     "elapsed": 545,
     "status": "ok",
     "timestamp": 1650773798405,
     "user": {
      "displayName": "Koditipalli Dinesh",
      "userId": "09422897118493776278"
     },
     "user_tz": 300
    },
    "id": "b0fa72c6",
    "outputId": "1511a4d9-9e2e-430b-ac8c-a6227742c8e2"
   },
   "outputs": [],
   "source": [
    "#Generating wordcloud of the most frequent sentiment words\n",
    "wordcloud = WordCloud(background_color='white',\n",
    "                      width=1000,\n",
    "                      height=400\n",
    "                     ).generate_from_frequencies(wordFrequency)\n",
    "plt.figure(figsize=(10,5))\n",
    "plt.imshow(wordcloud)\n",
    "plt.title('Sentiment Words\\n',size=20)\n",
    "plt.axis('off')\n",
    "plt.show()"
   ]
  },
  {
   "cell_type": "code",
   "execution_count": null,
   "id": "a9333fe3",
   "metadata": {
    "colab": {
     "base_uri": "https://localhost:8080/",
     "height": 404
    },
    "executionInfo": {
     "elapsed": 6,
     "status": "ok",
     "timestamp": 1650773798406,
     "user": {
      "displayName": "Koditipalli Dinesh",
      "userId": "09422897118493776278"
     },
     "user_tz": 300
    },
    "id": "25c655ef",
    "outputId": "041d30f2-33f6-46ba-a815-4b8a0f8bec91"
   },
   "outputs": [],
   "source": [
    "#Plotting and counting the distribution of reviews based on ratings between 1-5\n",
    "plt.figure(figsize=(10,5))\n",
    "sns.countplot(uniqueData['overall'])\n",
    "plt.title('Count ratings')\n",
    "plt.show()"
   ]
  },
  {
   "cell_type": "code",
   "execution_count": null,
   "id": "d3a3090c",
   "metadata": {
    "colab": {
     "base_uri": "https://localhost:8080/"
    },
    "executionInfo": {
     "elapsed": 276,
     "status": "ok",
     "timestamp": 1650773798817,
     "user": {
      "displayName": "Koditipalli Dinesh",
      "userId": "09422897118493776278"
     },
     "user_tz": 300
    },
    "id": "ff7f791d",
    "outputId": "f649aa2c-f432-4790-b14b-035c9710ab84"
   },
   "outputs": [],
   "source": [
    "#Removing punctuations from the review texts\n",
    "remPunct = re.compile(\"[.;:*~!\\'?,\\\"()\\\\\\[\\]]\") \n",
    "remPunctWSpc = re.compile(\"(<br\\s*/><br\\s*/>)|(\\-)|(\\/)\")\n",
    "uniqueData.reviewText = [remPunct.sub(\"\", i.lower()) for i in uniqueData.reviewText] \n",
    "uniqueData.reviewText= [remPunctWSpc.sub(\" \", i) for i in uniqueData.reviewText]\n",
    "print(uniqueData)"
   ]
  },
  {
   "cell_type": "code",
   "execution_count": null,
   "id": "b2ec959a",
   "metadata": {
    "colab": {
     "base_uri": "https://localhost:8080/"
    },
    "executionInfo": {
     "elapsed": 2401,
     "status": "ok",
     "timestamp": 1650773801216,
     "user": {
      "displayName": "Koditipalli Dinesh",
      "userId": "09422897118493776278"
     },
     "user_tz": 300
    },
    "id": "d70fe74c",
    "outputId": "613c856f-1271-4d63-c008-6786918456f0"
   },
   "outputs": [],
   "source": [
    "#Removing stop words from the \n",
    "english_stopwords = stopwords.words('english')\n",
    "print(english_stopwords,\"\\n\")\n",
    "def remove_stopwords(reviewCollection):\n",
    "    removed_stopwords = []\n",
    "    for reviews in reviewCollection:\n",
    "        removed_stopwords.append(\n",
    "            ' '.join([word for word in reviews.split() \n",
    "                      if word not in english_stopwords])\n",
    "        )\n",
    "    return removed_stopwords\n",
    "without_stopwords = remove_stopwords(uniqueData.reviewText)\n",
    "\n",
    "print(without_stopwords[:5])"
   ]
  },
  {
   "cell_type": "code",
   "execution_count": null,
   "id": "12242dcf",
   "metadata": {
    "colab": {
     "base_uri": "https://localhost:8080/"
    },
    "executionInfo": {
     "elapsed": 12560,
     "status": "ok",
     "timestamp": 1650773813772,
     "user": {
      "displayName": "Koditipalli Dinesh",
      "userId": "09422897118493776278"
     },
     "user_tz": 300
    },
    "id": "bb1b868b",
    "outputId": "5da2e66a-2f2a-4fc9-df4a-ba9532cbdea7"
   },
   "outputs": [],
   "source": [
    "#Stemming the refined review texts\n",
    "def get_stemmed_text(reviewCollection):\n",
    "    stemmer = PorterStemmer()\n",
    "    return [' '.join([stemmer.stem(word) for word in reviews.split()]) for reviews in reviewCollection]\n",
    "\n",
    "stemmed_reviews = get_stemmed_text(without_stopwords)\n",
    "\n",
    "print(stemmed_reviews[:5])"
   ]
  },
  {
   "cell_type": "code",
   "execution_count": null,
   "id": "47dd262b",
   "metadata": {
    "colab": {
     "base_uri": "https://localhost:8080/"
    },
    "executionInfo": {
     "elapsed": 3909,
     "status": "ok",
     "timestamp": 1650773817674,
     "user": {
      "displayName": "Koditipalli Dinesh",
      "userId": "09422897118493776278"
     },
     "user_tz": 300
    },
    "id": "1fbd7f05",
    "outputId": "6bc26b6c-8e7b-4e63-d173-5b7c55577e4d"
   },
   "outputs": [],
   "source": [
    "#Lemmatizing the refined review texts\n",
    "def get_lemmatized_text(reviewCollection):\n",
    "    lemmatizer = WordNetLemmatizer()\n",
    "    return [' '.join([lemmatizer.lemmatize(word) for word in reviews.split()]) for reviews in reviewCollection]\n",
    "\n",
    "lemmatized_reviews = get_lemmatized_text(without_stopwords)\n",
    "print(lemmatized_reviews[:5])\n"
   ]
  },
  {
   "cell_type": "code",
   "execution_count": null,
   "id": "187a1c2c",
   "metadata": {
    "colab": {
     "base_uri": "https://localhost:8080/",
     "height": 408
    },
    "executionInfo": {
     "elapsed": 15,
     "status": "ok",
     "timestamp": 1650773817675,
     "user": {
      "displayName": "Koditipalli Dinesh",
      "userId": "09422897118493776278"
     },
     "user_tz": 300
    },
    "id": "70774d40",
    "outputId": "5d84da70-979d-4c75-9317-289edaa1fba9"
   },
   "outputs": [],
   "source": [
    "#Data Labelling steps\n",
    "uniqueData['reviewText'] = lemmatized_reviews\n",
    "conditions = [\n",
    "    (uniqueData['overall'] >= 4),\n",
    "    (uniqueData['overall'] == 3),\n",
    "    (uniqueData['overall'] <= 2)\n",
    "    ]\n",
    "values = ['Positive', 'Neutral', 'Negative']\n",
    "uniqueData['sentiment'] = np.select(conditions, values)\n",
    "uniqueData.head()"
   ]
  },
  {
   "cell_type": "code",
   "execution_count": null,
   "id": "a32749ab",
   "metadata": {
    "colab": {
     "base_uri": "https://localhost:8080/"
    },
    "executionInfo": {
     "elapsed": 8,
     "status": "ok",
     "timestamp": 1650773817675,
     "user": {
      "displayName": "Koditipalli Dinesh",
      "userId": "09422897118493776278"
     },
     "user_tz": 300
    },
    "id": "080399f2",
    "outputId": "6706efe7-70b1-4a26-c1b3-f79b00ab6a81"
   },
   "outputs": [],
   "source": [
    "#Data Vectorization steps\n",
    "from sklearn.feature_extraction.text import TfidfVectorizer\n",
    "vectorizer = TfidfVectorizer()\n",
    "corpus = ['exactly needed', 'agree review opening small almost bent hook expensive earring trying get higher end theyre seen would buy price sending back', 'love going order another pack keep work someone including always losing back earring dont understand fish hook earring dont wish tiny bit longer', 'tiny opening', 'okay']\n",
    "vectors = vectorizer.fit_transform(corpus)\n",
    "feature_names = vectorizer.get_feature_names()\n",
    "print(f\"feature names\\n{feature_names}\")\n",
    "matrix = vectors.todense()\n",
    "list_dense = matrix.tolist()\n",
    "dataFrame= pd.DataFrame(list_dense, columns=feature_names)\n",
    "print(dataFrame)"
   ]
  },
  {
   "cell_type": "code",
   "execution_count": null,
   "id": "c04ff481",
   "metadata": {
    "executionInfo": {
     "elapsed": 133,
     "status": "ok",
     "timestamp": 1650773817804,
     "user": {
      "displayName": "Koditipalli Dinesh",
      "userId": "09422897118493776278"
     },
     "user_tz": 300
    },
    "id": "627d0fb6"
   },
   "outputs": [],
   "source": [
    "#Splitting data into test and train sets\n",
    "x = uniqueData['reviewText'].values\n",
    "y = uniqueData['sentiment'].values\n",
    "from sklearn.model_selection import train_test_split\n",
    "x_train,x_test,y_train,y_test = train_test_split(x,y,test_size = 0.2,random_state = 0,stratify = y)"
   ]
  },
  {
   "cell_type": "code",
   "execution_count": null,
   "id": "7d9638fc",
   "metadata": {
    "colab": {
     "base_uri": "https://localhost:8080/"
    },
    "executionInfo": {
     "elapsed": 8,
     "status": "ok",
     "timestamp": 1650773817805,
     "user": {
      "displayName": "Koditipalli Dinesh",
      "userId": "09422897118493776278"
     },
     "user_tz": 300
    },
    "id": "9872511b",
    "outputId": "773591be-9e1f-496e-e8b3-ca72788b63cd"
   },
   "outputs": [],
   "source": [
    "np.unique(y_train,return_counts=True)"
   ]
  },
  {
   "cell_type": "code",
   "execution_count": null,
   "id": "879c0e84",
   "metadata": {
    "colab": {
     "base_uri": "https://localhost:8080/"
    },
    "executionInfo": {
     "elapsed": 7,
     "status": "ok",
     "timestamp": 1650773817805,
     "user": {
      "displayName": "Koditipalli Dinesh",
      "userId": "09422897118493776278"
     },
     "user_tz": 300
    },
    "id": "14e1438b",
    "outputId": "eeb8c6fd-f59d-4f2f-eca9-dae90703eee3"
   },
   "outputs": [],
   "source": [
    "np.unique(y_test,return_counts=True)"
   ]
  },
  {
   "cell_type": "code",
   "execution_count": null,
   "id": "d4a77de4",
   "metadata": {
    "colab": {
     "base_uri": "https://localhost:8080/"
    },
    "executionInfo": {
     "elapsed": 283849,
     "status": "ok",
     "timestamp": 1650774101650,
     "user": {
      "displayName": "Koditipalli Dinesh",
      "userId": "09422897118493776278"
     },
     "user_tz": 300
    },
    "id": "c7362d87",
    "outputId": "60d1150c-c5c8-4d33-ed7b-e1fef84b4937"
   },
   "outputs": [],
   "source": [
    "#SVM\n",
    "from sklearn.pipeline import Pipeline\n",
    "from sklearn.feature_extraction.text import TfidfVectorizer\n",
    "from sklearn.svm import SVC\n",
    "text_model = Pipeline([('tfidf',TfidfVectorizer()),('model',SVC())])\n",
    "text_model.fit(x_train,y_train)\n",
    "y_pred = text_model.predict(x_test)\n",
    "np.unique(y_pred,return_counts=True)"
   ]
  },
  {
   "cell_type": "code",
   "execution_count": null,
   "id": "a48fa054",
   "metadata": {
    "colab": {
     "base_uri": "https://localhost:8080/"
    },
    "executionInfo": {
     "elapsed": 21,
     "status": "ok",
     "timestamp": 1650774101650,
     "user": {
      "displayName": "Koditipalli Dinesh",
      "userId": "09422897118493776278"
     },
     "user_tz": 300
    },
    "id": "65506533",
    "outputId": "0f6de52f-4c26-4445-8137-57f26787be88"
   },
   "outputs": [],
   "source": [
    "from sklearn.metrics import accuracy_score,classification_report,confusion_matrix\n",
    "accuracy_score(y_pred,y_test)*100\n",
    "print(classification_report(y_train, y_pred, target_names=target_names))"
   ]
  },
  {
   "cell_type": "code",
   "execution_count": null,
   "id": "1a4d8cf0",
   "metadata": {},
   "outputs": [],
   "source": [
    "confusion_matrix(y_test,y_pred)"
   ]
  },
  {
   "cell_type": "code",
   "execution_count": null,
   "id": "5d046089",
   "metadata": {},
   "outputs": [],
   "source": [
    "print(classification_report(y_test,y_pred))"
   ]
  }
 ],
 "metadata": {
  "accelerator": "GPU",
  "colab": {
   "name": "Copy of ML_SVM_Final.ipynb",
   "provenance": [
    {
     "file_id": "1Mpsi817LjYSCzBtWZ2cW1I9Y7UQbxt9Y",
     "timestamp": 1650774414940
    },
    {
     "file_id": "1cICiTV-HNjVamvIyE3WoMclfK6Taa2RY",
     "timestamp": 1650772674928
    }
   ]
  },
  "kernelspec": {
   "display_name": "Python 3 (ipykernel)",
   "language": "python",
   "name": "python3"
  },
  "language_info": {
   "codemirror_mode": {
    "name": "ipython",
    "version": 3
   },
   "file_extension": ".py",
   "mimetype": "text/x-python",
   "name": "python",
   "nbconvert_exporter": "python",
   "pygments_lexer": "ipython3",
   "version": "3.9.2"
  }
 },
 "nbformat": 4,
 "nbformat_minor": 5
}
